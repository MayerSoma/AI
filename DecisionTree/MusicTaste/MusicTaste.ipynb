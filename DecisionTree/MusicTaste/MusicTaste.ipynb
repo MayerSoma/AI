{
 "cells": [
  {
   "cell_type": "code",
   "execution_count": 38,
   "id": "5bd70ab3",
   "metadata": {
    "scrolled": true
   },
   "outputs": [
    {
     "name": "stderr",
     "output_type": "stream",
     "text": [
      "C:\\Users\\mayer\\anaconda3\\lib\\site-packages\\sklearn\\base.py:420: UserWarning: X does not have valid feature names, but DecisionTreeClassifier was fitted with feature names\n",
      "  warnings.warn(\n"
     ]
    },
    {
     "data": {
      "text/plain": [
       "array(['HipHop'], dtype=object)"
      ]
     },
     "execution_count": 38,
     "metadata": {},
     "output_type": "execute_result"
    }
   ],
   "source": [
    "import numpy as np\n",
    "import pandas as pd\n",
    "import joblib\n",
    "from sklearn.tree import DecisionTreeClassifier\n",
    "from sklearn import tree\n",
    "from sklearn import preprocessing\n",
    "from sklearn.model_selection import train_test_split\n",
    "from sklearn.metrics import accuracy_score\n",
    "\n",
    "#data = pd.read_csv('music.csv')\n",
    "#x = data.drop(columns=['genre'])\n",
    "#y = data['genre']\n",
    "\n",
    "# Spliting training and testing data based on test_size and x,y where x is data and genre is y\n",
    "#x_train, x_test, y_train, y_test = train_test_split(x, y, test_size = 0.2)\n",
    "\n",
    "#model = DecisionTreeClassifier()\n",
    "#model.fit(x_train,y_train)\n",
    "\n",
    "# Save Modell\n",
    "#joblib.dump(model, 'music_recomender.joblib')\n",
    "# Load Modell\n",
    "model = joblib.load('music_recomender.joblib')\n",
    "\n",
    "# visualizing\n",
    "tree.export_graphviz(model, out_file='music_recomender.dot',\n",
    "                    feature_names=['age', 'gender'],\n",
    "                    class_names=sorted(y.unique()),\n",
    "                    label='all',\n",
    "                    rounded=True,\n",
    "                    filled=True)\n",
    "\n",
    "predictions = model.predict([[21, 1]])\n",
    "predictions\n",
    "# Predict by test set\n",
    "#predictions = model.predict(x_test)\n",
    "\n",
    "#score = accuracy_score(y_test,predictions)\n",
    "#score\n"
   ]
  },
  {
   "cell_type": "code",
   "execution_count": null,
   "id": "c8b3fa03",
   "metadata": {},
   "outputs": [],
   "source": []
  }
 ],
 "metadata": {
  "kernelspec": {
   "display_name": "Python 3 (ipykernel)",
   "language": "python",
   "name": "python3"
  },
  "language_info": {
   "codemirror_mode": {
    "name": "ipython",
    "version": 3
   },
   "file_extension": ".py",
   "mimetype": "text/x-python",
   "name": "python",
   "nbconvert_exporter": "python",
   "pygments_lexer": "ipython3",
   "version": "3.10.9"
  }
 },
 "nbformat": 4,
 "nbformat_minor": 5
}
